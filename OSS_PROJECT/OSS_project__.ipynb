{
  "cells": [
    {
      "cell_type": "code",
      "execution_count": 1,
      "metadata": {
        "id": "gn186qKuCEx-"
      },
      "outputs": [],
      "source": [
        "# Importing libraries\n",
        "import pandas as pd\n",
        "import numpy as np\n",
        "from sklearn.model_selection import train_test_split\n",
        "from sklearn.linear_model import LogisticRegression, LinearRegression\n",
        "from sklearn.neighbors import KNeighborsClassifier\n",
        "from sklearn.svm import SVC\n",
        "from sklearn.tree import DecisionTreeClassifier\n",
        "from sklearn.naive_bayes import GaussianNB\n",
        "from sklearn.metrics import accuracy_score"
      ]
    },
    {
      "cell_type": "code",
      "execution_count": 2,
      "metadata": {
        "colab": {
          "base_uri": "https://localhost:8080/",
          "height": 206
        },
        "id": "lYJojWIBCEyB",
        "outputId": "cb7b227d-f534-4cdd-9864-e360da90b00c"
      },
      "outputs": [
        {
          "data": {
            "text/html": [
              "<div>\n",
              "<style scoped>\n",
              "    .dataframe tbody tr th:only-of-type {\n",
              "        vertical-align: middle;\n",
              "    }\n",
              "\n",
              "    .dataframe tbody tr th {\n",
              "        vertical-align: top;\n",
              "    }\n",
              "\n",
              "    .dataframe thead th {\n",
              "        text-align: right;\n",
              "    }\n",
              "</style>\n",
              "<table border=\"1\" class=\"dataframe\">\n",
              "  <thead>\n",
              "    <tr style=\"text-align: right;\">\n",
              "      <th></th>\n",
              "      <th>age</th>\n",
              "      <th>sex</th>\n",
              "      <th>cp</th>\n",
              "      <th>trestbps</th>\n",
              "      <th>chol</th>\n",
              "      <th>fbs</th>\n",
              "      <th>restecg</th>\n",
              "      <th>thalach</th>\n",
              "      <th>exang</th>\n",
              "      <th>oldpeak</th>\n",
              "      <th>slope</th>\n",
              "      <th>ca</th>\n",
              "      <th>thal</th>\n",
              "      <th>target</th>\n",
              "    </tr>\n",
              "  </thead>\n",
              "  <tbody>\n",
              "    <tr>\n",
              "      <th>0</th>\n",
              "      <td>52</td>\n",
              "      <td>1</td>\n",
              "      <td>0</td>\n",
              "      <td>125</td>\n",
              "      <td>212</td>\n",
              "      <td>0</td>\n",
              "      <td>1</td>\n",
              "      <td>168</td>\n",
              "      <td>0</td>\n",
              "      <td>1.0</td>\n",
              "      <td>2</td>\n",
              "      <td>2</td>\n",
              "      <td>3</td>\n",
              "      <td>0</td>\n",
              "    </tr>\n",
              "    <tr>\n",
              "      <th>1</th>\n",
              "      <td>53</td>\n",
              "      <td>1</td>\n",
              "      <td>0</td>\n",
              "      <td>140</td>\n",
              "      <td>203</td>\n",
              "      <td>1</td>\n",
              "      <td>0</td>\n",
              "      <td>155</td>\n",
              "      <td>1</td>\n",
              "      <td>3.1</td>\n",
              "      <td>0</td>\n",
              "      <td>0</td>\n",
              "      <td>3</td>\n",
              "      <td>0</td>\n",
              "    </tr>\n",
              "    <tr>\n",
              "      <th>2</th>\n",
              "      <td>70</td>\n",
              "      <td>1</td>\n",
              "      <td>0</td>\n",
              "      <td>145</td>\n",
              "      <td>174</td>\n",
              "      <td>0</td>\n",
              "      <td>1</td>\n",
              "      <td>125</td>\n",
              "      <td>1</td>\n",
              "      <td>2.6</td>\n",
              "      <td>0</td>\n",
              "      <td>0</td>\n",
              "      <td>3</td>\n",
              "      <td>0</td>\n",
              "    </tr>\n",
              "    <tr>\n",
              "      <th>3</th>\n",
              "      <td>61</td>\n",
              "      <td>1</td>\n",
              "      <td>0</td>\n",
              "      <td>148</td>\n",
              "      <td>203</td>\n",
              "      <td>0</td>\n",
              "      <td>1</td>\n",
              "      <td>161</td>\n",
              "      <td>0</td>\n",
              "      <td>0.0</td>\n",
              "      <td>2</td>\n",
              "      <td>1</td>\n",
              "      <td>3</td>\n",
              "      <td>0</td>\n",
              "    </tr>\n",
              "    <tr>\n",
              "      <th>4</th>\n",
              "      <td>62</td>\n",
              "      <td>0</td>\n",
              "      <td>0</td>\n",
              "      <td>138</td>\n",
              "      <td>294</td>\n",
              "      <td>1</td>\n",
              "      <td>1</td>\n",
              "      <td>106</td>\n",
              "      <td>0</td>\n",
              "      <td>1.9</td>\n",
              "      <td>1</td>\n",
              "      <td>3</td>\n",
              "      <td>2</td>\n",
              "      <td>0</td>\n",
              "    </tr>\n",
              "  </tbody>\n",
              "</table>\n",
              "</div>"
            ],
            "text/plain": [
              "   age  sex  cp  trestbps  chol  fbs  restecg  thalach  exang  oldpeak  slope  \\\n",
              "0   52    1   0       125   212    0        1      168      0      1.0      2   \n",
              "1   53    1   0       140   203    1        0      155      1      3.1      0   \n",
              "2   70    1   0       145   174    0        1      125      1      2.6      0   \n",
              "3   61    1   0       148   203    0        1      161      0      0.0      2   \n",
              "4   62    0   0       138   294    1        1      106      0      1.9      1   \n",
              "\n",
              "   ca  thal  target  \n",
              "0   2     3       0  \n",
              "1   0     3       0  \n",
              "2   0     3       0  \n",
              "3   1     3       0  \n",
              "4   3     2       0  "
            ]
          },
          "execution_count": 2,
          "metadata": {},
          "output_type": "execute_result"
        }
      ],
      "source": [
        "#loading the data set\n",
        "heart_data = pd.read_csv('heart.csv')\n",
        "heart_data.head()"
      ]
    },
    {
      "cell_type": "code",
      "execution_count": 3,
      "metadata": {
        "colab": {
          "base_uri": "https://localhost:8080/",
          "height": 206
        },
        "id": "LtMFSoYRCEyC",
        "outputId": "74af4b1a-523a-4d76-d822-c073f2742ad2"
      },
      "outputs": [
        {
          "data": {
            "text/html": [
              "<div>\n",
              "<style scoped>\n",
              "    .dataframe tbody tr th:only-of-type {\n",
              "        vertical-align: middle;\n",
              "    }\n",
              "\n",
              "    .dataframe tbody tr th {\n",
              "        vertical-align: top;\n",
              "    }\n",
              "\n",
              "    .dataframe thead th {\n",
              "        text-align: right;\n",
              "    }\n",
              "</style>\n",
              "<table border=\"1\" class=\"dataframe\">\n",
              "  <thead>\n",
              "    <tr style=\"text-align: right;\">\n",
              "      <th></th>\n",
              "      <th>age</th>\n",
              "      <th>sex</th>\n",
              "      <th>cp</th>\n",
              "      <th>trestbps</th>\n",
              "      <th>chol</th>\n",
              "      <th>fbs</th>\n",
              "      <th>restecg</th>\n",
              "      <th>thalach</th>\n",
              "      <th>exang</th>\n",
              "      <th>oldpeak</th>\n",
              "      <th>slope</th>\n",
              "      <th>ca</th>\n",
              "      <th>thal</th>\n",
              "      <th>target</th>\n",
              "    </tr>\n",
              "  </thead>\n",
              "  <tbody>\n",
              "    <tr>\n",
              "      <th>1020</th>\n",
              "      <td>59</td>\n",
              "      <td>1</td>\n",
              "      <td>1</td>\n",
              "      <td>140</td>\n",
              "      <td>221</td>\n",
              "      <td>0</td>\n",
              "      <td>1</td>\n",
              "      <td>164</td>\n",
              "      <td>1</td>\n",
              "      <td>0.0</td>\n",
              "      <td>2</td>\n",
              "      <td>0</td>\n",
              "      <td>2</td>\n",
              "      <td>1</td>\n",
              "    </tr>\n",
              "    <tr>\n",
              "      <th>1021</th>\n",
              "      <td>60</td>\n",
              "      <td>1</td>\n",
              "      <td>0</td>\n",
              "      <td>125</td>\n",
              "      <td>258</td>\n",
              "      <td>0</td>\n",
              "      <td>0</td>\n",
              "      <td>141</td>\n",
              "      <td>1</td>\n",
              "      <td>2.8</td>\n",
              "      <td>1</td>\n",
              "      <td>1</td>\n",
              "      <td>3</td>\n",
              "      <td>0</td>\n",
              "    </tr>\n",
              "    <tr>\n",
              "      <th>1022</th>\n",
              "      <td>47</td>\n",
              "      <td>1</td>\n",
              "      <td>0</td>\n",
              "      <td>110</td>\n",
              "      <td>275</td>\n",
              "      <td>0</td>\n",
              "      <td>0</td>\n",
              "      <td>118</td>\n",
              "      <td>1</td>\n",
              "      <td>1.0</td>\n",
              "      <td>1</td>\n",
              "      <td>1</td>\n",
              "      <td>2</td>\n",
              "      <td>0</td>\n",
              "    </tr>\n",
              "    <tr>\n",
              "      <th>1023</th>\n",
              "      <td>50</td>\n",
              "      <td>0</td>\n",
              "      <td>0</td>\n",
              "      <td>110</td>\n",
              "      <td>254</td>\n",
              "      <td>0</td>\n",
              "      <td>0</td>\n",
              "      <td>159</td>\n",
              "      <td>0</td>\n",
              "      <td>0.0</td>\n",
              "      <td>2</td>\n",
              "      <td>0</td>\n",
              "      <td>2</td>\n",
              "      <td>1</td>\n",
              "    </tr>\n",
              "    <tr>\n",
              "      <th>1024</th>\n",
              "      <td>54</td>\n",
              "      <td>1</td>\n",
              "      <td>0</td>\n",
              "      <td>120</td>\n",
              "      <td>188</td>\n",
              "      <td>0</td>\n",
              "      <td>1</td>\n",
              "      <td>113</td>\n",
              "      <td>0</td>\n",
              "      <td>1.4</td>\n",
              "      <td>1</td>\n",
              "      <td>1</td>\n",
              "      <td>3</td>\n",
              "      <td>0</td>\n",
              "    </tr>\n",
              "  </tbody>\n",
              "</table>\n",
              "</div>"
            ],
            "text/plain": [
              "      age  sex  cp  trestbps  chol  fbs  restecg  thalach  exang  oldpeak  \\\n",
              "1020   59    1   1       140   221    0        1      164      1      0.0   \n",
              "1021   60    1   0       125   258    0        0      141      1      2.8   \n",
              "1022   47    1   0       110   275    0        0      118      1      1.0   \n",
              "1023   50    0   0       110   254    0        0      159      0      0.0   \n",
              "1024   54    1   0       120   188    0        1      113      0      1.4   \n",
              "\n",
              "      slope  ca  thal  target  \n",
              "1020      2   0     2       1  \n",
              "1021      1   1     3       0  \n",
              "1022      1   1     2       0  \n",
              "1023      2   0     2       1  \n",
              "1024      1   1     3       0  "
            ]
          },
          "execution_count": 3,
          "metadata": {},
          "output_type": "execute_result"
        }
      ],
      "source": [
        "#print last 5 rows\n",
        "heart_data.tail()"
      ]
    },
    {
      "cell_type": "code",
      "execution_count": 4,
      "metadata": {
        "colab": {
          "base_uri": "https://localhost:8080/"
        },
        "id": "ONpgN4TcCEyC",
        "outputId": "b57316ab-f8fb-4cd2-df2b-06c8e8d18751"
      },
      "outputs": [
        {
          "data": {
            "text/plain": [
              "(1025, 14)"
            ]
          },
          "execution_count": 4,
          "metadata": {},
          "output_type": "execute_result"
        }
      ],
      "source": [
        "#getting info of data\n",
        "heart_data.shape"
      ]
    },
    {
      "cell_type": "code",
      "execution_count": 5,
      "metadata": {
        "colab": {
          "base_uri": "https://localhost:8080/"
        },
        "id": "KYqxyuPpCEyD",
        "outputId": "4dd406e7-6f3e-479d-9193-5e9c8c3262ee"
      },
      "outputs": [
        {
          "name": "stdout",
          "output_type": "stream",
          "text": [
            "<class 'pandas.core.frame.DataFrame'>\n",
            "RangeIndex: 1025 entries, 0 to 1024\n",
            "Data columns (total 14 columns):\n",
            " #   Column    Non-Null Count  Dtype  \n",
            "---  ------    --------------  -----  \n",
            " 0   age       1025 non-null   int64  \n",
            " 1   sex       1025 non-null   int64  \n",
            " 2   cp        1025 non-null   int64  \n",
            " 3   trestbps  1025 non-null   int64  \n",
            " 4   chol      1025 non-null   int64  \n",
            " 5   fbs       1025 non-null   int64  \n",
            " 6   restecg   1025 non-null   int64  \n",
            " 7   thalach   1025 non-null   int64  \n",
            " 8   exang     1025 non-null   int64  \n",
            " 9   oldpeak   1025 non-null   float64\n",
            " 10  slope     1025 non-null   int64  \n",
            " 11  ca        1025 non-null   int64  \n",
            " 12  thal      1025 non-null   int64  \n",
            " 13  target    1025 non-null   int64  \n",
            "dtypes: float64(1), int64(13)\n",
            "memory usage: 112.2 KB\n"
          ]
        }
      ],
      "source": [
        "heart_data.info()"
      ]
    },
    {
      "cell_type": "code",
      "execution_count": 6,
      "metadata": {
        "colab": {
          "base_uri": "https://localhost:8080/"
        },
        "id": "ykQtT1NLCEyD",
        "outputId": "81d41e5b-f770-4fff-ec7b-dfc5243c6c52"
      },
      "outputs": [
        {
          "data": {
            "text/plain": [
              "age         0\n",
              "sex         0\n",
              "cp          0\n",
              "trestbps    0\n",
              "chol        0\n",
              "fbs         0\n",
              "restecg     0\n",
              "thalach     0\n",
              "exang       0\n",
              "oldpeak     0\n",
              "slope       0\n",
              "ca          0\n",
              "thal        0\n",
              "target      0\n",
              "dtype: int64"
            ]
          },
          "execution_count": 6,
          "metadata": {},
          "output_type": "execute_result"
        }
      ],
      "source": [
        "# checking for missing values\n",
        "heart_data.isnull().sum()"
      ]
    },
    {
      "cell_type": "code",
      "execution_count": 7,
      "metadata": {
        "colab": {
          "base_uri": "https://localhost:8080/",
          "height": 320
        },
        "id": "qmXkCs02CEyD",
        "outputId": "555fcb99-1c0e-4bc3-dead-f9c5a8918f61"
      },
      "outputs": [
        {
          "data": {
            "text/html": [
              "<div>\n",
              "<style scoped>\n",
              "    .dataframe tbody tr th:only-of-type {\n",
              "        vertical-align: middle;\n",
              "    }\n",
              "\n",
              "    .dataframe tbody tr th {\n",
              "        vertical-align: top;\n",
              "    }\n",
              "\n",
              "    .dataframe thead th {\n",
              "        text-align: right;\n",
              "    }\n",
              "</style>\n",
              "<table border=\"1\" class=\"dataframe\">\n",
              "  <thead>\n",
              "    <tr style=\"text-align: right;\">\n",
              "      <th></th>\n",
              "      <th>age</th>\n",
              "      <th>sex</th>\n",
              "      <th>cp</th>\n",
              "      <th>trestbps</th>\n",
              "      <th>chol</th>\n",
              "      <th>fbs</th>\n",
              "      <th>restecg</th>\n",
              "      <th>thalach</th>\n",
              "      <th>exang</th>\n",
              "      <th>oldpeak</th>\n",
              "      <th>slope</th>\n",
              "      <th>ca</th>\n",
              "      <th>thal</th>\n",
              "      <th>target</th>\n",
              "    </tr>\n",
              "  </thead>\n",
              "  <tbody>\n",
              "    <tr>\n",
              "      <th>count</th>\n",
              "      <td>1025.000000</td>\n",
              "      <td>1025.000000</td>\n",
              "      <td>1025.000000</td>\n",
              "      <td>1025.000000</td>\n",
              "      <td>1025.00000</td>\n",
              "      <td>1025.000000</td>\n",
              "      <td>1025.000000</td>\n",
              "      <td>1025.000000</td>\n",
              "      <td>1025.000000</td>\n",
              "      <td>1025.000000</td>\n",
              "      <td>1025.000000</td>\n",
              "      <td>1025.000000</td>\n",
              "      <td>1025.000000</td>\n",
              "      <td>1025.000000</td>\n",
              "    </tr>\n",
              "    <tr>\n",
              "      <th>mean</th>\n",
              "      <td>54.434146</td>\n",
              "      <td>0.695610</td>\n",
              "      <td>0.942439</td>\n",
              "      <td>131.611707</td>\n",
              "      <td>246.00000</td>\n",
              "      <td>0.149268</td>\n",
              "      <td>0.529756</td>\n",
              "      <td>149.114146</td>\n",
              "      <td>0.336585</td>\n",
              "      <td>1.071512</td>\n",
              "      <td>1.385366</td>\n",
              "      <td>0.754146</td>\n",
              "      <td>2.323902</td>\n",
              "      <td>0.513171</td>\n",
              "    </tr>\n",
              "    <tr>\n",
              "      <th>std</th>\n",
              "      <td>9.072290</td>\n",
              "      <td>0.460373</td>\n",
              "      <td>1.029641</td>\n",
              "      <td>17.516718</td>\n",
              "      <td>51.59251</td>\n",
              "      <td>0.356527</td>\n",
              "      <td>0.527878</td>\n",
              "      <td>23.005724</td>\n",
              "      <td>0.472772</td>\n",
              "      <td>1.175053</td>\n",
              "      <td>0.617755</td>\n",
              "      <td>1.030798</td>\n",
              "      <td>0.620660</td>\n",
              "      <td>0.500070</td>\n",
              "    </tr>\n",
              "    <tr>\n",
              "      <th>min</th>\n",
              "      <td>29.000000</td>\n",
              "      <td>0.000000</td>\n",
              "      <td>0.000000</td>\n",
              "      <td>94.000000</td>\n",
              "      <td>126.00000</td>\n",
              "      <td>0.000000</td>\n",
              "      <td>0.000000</td>\n",
              "      <td>71.000000</td>\n",
              "      <td>0.000000</td>\n",
              "      <td>0.000000</td>\n",
              "      <td>0.000000</td>\n",
              "      <td>0.000000</td>\n",
              "      <td>0.000000</td>\n",
              "      <td>0.000000</td>\n",
              "    </tr>\n",
              "    <tr>\n",
              "      <th>25%</th>\n",
              "      <td>48.000000</td>\n",
              "      <td>0.000000</td>\n",
              "      <td>0.000000</td>\n",
              "      <td>120.000000</td>\n",
              "      <td>211.00000</td>\n",
              "      <td>0.000000</td>\n",
              "      <td>0.000000</td>\n",
              "      <td>132.000000</td>\n",
              "      <td>0.000000</td>\n",
              "      <td>0.000000</td>\n",
              "      <td>1.000000</td>\n",
              "      <td>0.000000</td>\n",
              "      <td>2.000000</td>\n",
              "      <td>0.000000</td>\n",
              "    </tr>\n",
              "    <tr>\n",
              "      <th>50%</th>\n",
              "      <td>56.000000</td>\n",
              "      <td>1.000000</td>\n",
              "      <td>1.000000</td>\n",
              "      <td>130.000000</td>\n",
              "      <td>240.00000</td>\n",
              "      <td>0.000000</td>\n",
              "      <td>1.000000</td>\n",
              "      <td>152.000000</td>\n",
              "      <td>0.000000</td>\n",
              "      <td>0.800000</td>\n",
              "      <td>1.000000</td>\n",
              "      <td>0.000000</td>\n",
              "      <td>2.000000</td>\n",
              "      <td>1.000000</td>\n",
              "    </tr>\n",
              "    <tr>\n",
              "      <th>75%</th>\n",
              "      <td>61.000000</td>\n",
              "      <td>1.000000</td>\n",
              "      <td>2.000000</td>\n",
              "      <td>140.000000</td>\n",
              "      <td>275.00000</td>\n",
              "      <td>0.000000</td>\n",
              "      <td>1.000000</td>\n",
              "      <td>166.000000</td>\n",
              "      <td>1.000000</td>\n",
              "      <td>1.800000</td>\n",
              "      <td>2.000000</td>\n",
              "      <td>1.000000</td>\n",
              "      <td>3.000000</td>\n",
              "      <td>1.000000</td>\n",
              "    </tr>\n",
              "    <tr>\n",
              "      <th>max</th>\n",
              "      <td>77.000000</td>\n",
              "      <td>1.000000</td>\n",
              "      <td>3.000000</td>\n",
              "      <td>200.000000</td>\n",
              "      <td>564.00000</td>\n",
              "      <td>1.000000</td>\n",
              "      <td>2.000000</td>\n",
              "      <td>202.000000</td>\n",
              "      <td>1.000000</td>\n",
              "      <td>6.200000</td>\n",
              "      <td>2.000000</td>\n",
              "      <td>4.000000</td>\n",
              "      <td>3.000000</td>\n",
              "      <td>1.000000</td>\n",
              "    </tr>\n",
              "  </tbody>\n",
              "</table>\n",
              "</div>"
            ],
            "text/plain": [
              "               age          sex           cp     trestbps        chol  \\\n",
              "count  1025.000000  1025.000000  1025.000000  1025.000000  1025.00000   \n",
              "mean     54.434146     0.695610     0.942439   131.611707   246.00000   \n",
              "std       9.072290     0.460373     1.029641    17.516718    51.59251   \n",
              "min      29.000000     0.000000     0.000000    94.000000   126.00000   \n",
              "25%      48.000000     0.000000     0.000000   120.000000   211.00000   \n",
              "50%      56.000000     1.000000     1.000000   130.000000   240.00000   \n",
              "75%      61.000000     1.000000     2.000000   140.000000   275.00000   \n",
              "max      77.000000     1.000000     3.000000   200.000000   564.00000   \n",
              "\n",
              "               fbs      restecg      thalach        exang      oldpeak  \\\n",
              "count  1025.000000  1025.000000  1025.000000  1025.000000  1025.000000   \n",
              "mean      0.149268     0.529756   149.114146     0.336585     1.071512   \n",
              "std       0.356527     0.527878    23.005724     0.472772     1.175053   \n",
              "min       0.000000     0.000000    71.000000     0.000000     0.000000   \n",
              "25%       0.000000     0.000000   132.000000     0.000000     0.000000   \n",
              "50%       0.000000     1.000000   152.000000     0.000000     0.800000   \n",
              "75%       0.000000     1.000000   166.000000     1.000000     1.800000   \n",
              "max       1.000000     2.000000   202.000000     1.000000     6.200000   \n",
              "\n",
              "             slope           ca         thal       target  \n",
              "count  1025.000000  1025.000000  1025.000000  1025.000000  \n",
              "mean      1.385366     0.754146     2.323902     0.513171  \n",
              "std       0.617755     1.030798     0.620660     0.500070  \n",
              "min       0.000000     0.000000     0.000000     0.000000  \n",
              "25%       1.000000     0.000000     2.000000     0.000000  \n",
              "50%       1.000000     0.000000     2.000000     1.000000  \n",
              "75%       2.000000     1.000000     3.000000     1.000000  \n",
              "max       2.000000     4.000000     3.000000     1.000000  "
            ]
          },
          "execution_count": 7,
          "metadata": {},
          "output_type": "execute_result"
        }
      ],
      "source": [
        "#analyzing the data\n",
        "heart_data.describe()"
      ]
    },
    {
      "cell_type": "code",
      "execution_count": 8,
      "metadata": {
        "colab": {
          "base_uri": "https://localhost:8080/"
        },
        "id": "kUKie21DCEyE",
        "outputId": "d6b4a3b0-1258-458a-8ba1-a0ad3a29b4e9"
      },
      "outputs": [
        {
          "data": {
            "text/plain": [
              "target\n",
              "1    526\n",
              "0    499\n",
              "Name: count, dtype: int64"
            ]
          },
          "execution_count": 8,
          "metadata": {},
          "output_type": "execute_result"
        }
      ],
      "source": [
        "#checking the distribution of target variable\n",
        "heart_data['target'].value_counts()"
      ]
    },
    {
      "cell_type": "markdown",
      "metadata": {
        "id": "9-wfl3oOCEyE"
      },
      "source": [
        "1 --> Defective Heart\n",
        "0 --> Healthy Heart"
      ]
    },
    {
      "cell_type": "markdown",
      "metadata": {
        "id": "70GQiG44CEyF"
      },
      "source": [
        "## Splitting the data"
      ]
    },
    {
      "cell_type": "code",
      "execution_count": 9,
      "metadata": {
        "id": "NxsbrSzcCEyG"
      },
      "outputs": [],
      "source": [
        "X = heart_data.drop(columns='target', axis=1)\n",
        "Y = heart_data['target']"
      ]
    },
    {
      "cell_type": "code",
      "execution_count": 10,
      "metadata": {
        "colab": {
          "base_uri": "https://localhost:8080/",
          "height": 423
        },
        "id": "JqcJfFs3CEyG",
        "outputId": "7f598c70-959a-4585-d75e-b8cf87eb592e"
      },
      "outputs": [
        {
          "data": {
            "text/html": [
              "<div>\n",
              "<style scoped>\n",
              "    .dataframe tbody tr th:only-of-type {\n",
              "        vertical-align: middle;\n",
              "    }\n",
              "\n",
              "    .dataframe tbody tr th {\n",
              "        vertical-align: top;\n",
              "    }\n",
              "\n",
              "    .dataframe thead th {\n",
              "        text-align: right;\n",
              "    }\n",
              "</style>\n",
              "<table border=\"1\" class=\"dataframe\">\n",
              "  <thead>\n",
              "    <tr style=\"text-align: right;\">\n",
              "      <th></th>\n",
              "      <th>age</th>\n",
              "      <th>sex</th>\n",
              "      <th>cp</th>\n",
              "      <th>trestbps</th>\n",
              "      <th>chol</th>\n",
              "      <th>fbs</th>\n",
              "      <th>restecg</th>\n",
              "      <th>thalach</th>\n",
              "      <th>exang</th>\n",
              "      <th>oldpeak</th>\n",
              "      <th>slope</th>\n",
              "      <th>ca</th>\n",
              "      <th>thal</th>\n",
              "    </tr>\n",
              "  </thead>\n",
              "  <tbody>\n",
              "    <tr>\n",
              "      <th>0</th>\n",
              "      <td>52</td>\n",
              "      <td>1</td>\n",
              "      <td>0</td>\n",
              "      <td>125</td>\n",
              "      <td>212</td>\n",
              "      <td>0</td>\n",
              "      <td>1</td>\n",
              "      <td>168</td>\n",
              "      <td>0</td>\n",
              "      <td>1.0</td>\n",
              "      <td>2</td>\n",
              "      <td>2</td>\n",
              "      <td>3</td>\n",
              "    </tr>\n",
              "    <tr>\n",
              "      <th>1</th>\n",
              "      <td>53</td>\n",
              "      <td>1</td>\n",
              "      <td>0</td>\n",
              "      <td>140</td>\n",
              "      <td>203</td>\n",
              "      <td>1</td>\n",
              "      <td>0</td>\n",
              "      <td>155</td>\n",
              "      <td>1</td>\n",
              "      <td>3.1</td>\n",
              "      <td>0</td>\n",
              "      <td>0</td>\n",
              "      <td>3</td>\n",
              "    </tr>\n",
              "    <tr>\n",
              "      <th>2</th>\n",
              "      <td>70</td>\n",
              "      <td>1</td>\n",
              "      <td>0</td>\n",
              "      <td>145</td>\n",
              "      <td>174</td>\n",
              "      <td>0</td>\n",
              "      <td>1</td>\n",
              "      <td>125</td>\n",
              "      <td>1</td>\n",
              "      <td>2.6</td>\n",
              "      <td>0</td>\n",
              "      <td>0</td>\n",
              "      <td>3</td>\n",
              "    </tr>\n",
              "    <tr>\n",
              "      <th>3</th>\n",
              "      <td>61</td>\n",
              "      <td>1</td>\n",
              "      <td>0</td>\n",
              "      <td>148</td>\n",
              "      <td>203</td>\n",
              "      <td>0</td>\n",
              "      <td>1</td>\n",
              "      <td>161</td>\n",
              "      <td>0</td>\n",
              "      <td>0.0</td>\n",
              "      <td>2</td>\n",
              "      <td>1</td>\n",
              "      <td>3</td>\n",
              "    </tr>\n",
              "    <tr>\n",
              "      <th>4</th>\n",
              "      <td>62</td>\n",
              "      <td>0</td>\n",
              "      <td>0</td>\n",
              "      <td>138</td>\n",
              "      <td>294</td>\n",
              "      <td>1</td>\n",
              "      <td>1</td>\n",
              "      <td>106</td>\n",
              "      <td>0</td>\n",
              "      <td>1.9</td>\n",
              "      <td>1</td>\n",
              "      <td>3</td>\n",
              "      <td>2</td>\n",
              "    </tr>\n",
              "    <tr>\n",
              "      <th>...</th>\n",
              "      <td>...</td>\n",
              "      <td>...</td>\n",
              "      <td>...</td>\n",
              "      <td>...</td>\n",
              "      <td>...</td>\n",
              "      <td>...</td>\n",
              "      <td>...</td>\n",
              "      <td>...</td>\n",
              "      <td>...</td>\n",
              "      <td>...</td>\n",
              "      <td>...</td>\n",
              "      <td>...</td>\n",
              "      <td>...</td>\n",
              "    </tr>\n",
              "    <tr>\n",
              "      <th>1020</th>\n",
              "      <td>59</td>\n",
              "      <td>1</td>\n",
              "      <td>1</td>\n",
              "      <td>140</td>\n",
              "      <td>221</td>\n",
              "      <td>0</td>\n",
              "      <td>1</td>\n",
              "      <td>164</td>\n",
              "      <td>1</td>\n",
              "      <td>0.0</td>\n",
              "      <td>2</td>\n",
              "      <td>0</td>\n",
              "      <td>2</td>\n",
              "    </tr>\n",
              "    <tr>\n",
              "      <th>1021</th>\n",
              "      <td>60</td>\n",
              "      <td>1</td>\n",
              "      <td>0</td>\n",
              "      <td>125</td>\n",
              "      <td>258</td>\n",
              "      <td>0</td>\n",
              "      <td>0</td>\n",
              "      <td>141</td>\n",
              "      <td>1</td>\n",
              "      <td>2.8</td>\n",
              "      <td>1</td>\n",
              "      <td>1</td>\n",
              "      <td>3</td>\n",
              "    </tr>\n",
              "    <tr>\n",
              "      <th>1022</th>\n",
              "      <td>47</td>\n",
              "      <td>1</td>\n",
              "      <td>0</td>\n",
              "      <td>110</td>\n",
              "      <td>275</td>\n",
              "      <td>0</td>\n",
              "      <td>0</td>\n",
              "      <td>118</td>\n",
              "      <td>1</td>\n",
              "      <td>1.0</td>\n",
              "      <td>1</td>\n",
              "      <td>1</td>\n",
              "      <td>2</td>\n",
              "    </tr>\n",
              "    <tr>\n",
              "      <th>1023</th>\n",
              "      <td>50</td>\n",
              "      <td>0</td>\n",
              "      <td>0</td>\n",
              "      <td>110</td>\n",
              "      <td>254</td>\n",
              "      <td>0</td>\n",
              "      <td>0</td>\n",
              "      <td>159</td>\n",
              "      <td>0</td>\n",
              "      <td>0.0</td>\n",
              "      <td>2</td>\n",
              "      <td>0</td>\n",
              "      <td>2</td>\n",
              "    </tr>\n",
              "    <tr>\n",
              "      <th>1024</th>\n",
              "      <td>54</td>\n",
              "      <td>1</td>\n",
              "      <td>0</td>\n",
              "      <td>120</td>\n",
              "      <td>188</td>\n",
              "      <td>0</td>\n",
              "      <td>1</td>\n",
              "      <td>113</td>\n",
              "      <td>0</td>\n",
              "      <td>1.4</td>\n",
              "      <td>1</td>\n",
              "      <td>1</td>\n",
              "      <td>3</td>\n",
              "    </tr>\n",
              "  </tbody>\n",
              "</table>\n",
              "<p>1025 rows × 13 columns</p>\n",
              "</div>"
            ],
            "text/plain": [
              "      age  sex  cp  trestbps  chol  fbs  restecg  thalach  exang  oldpeak  \\\n",
              "0      52    1   0       125   212    0        1      168      0      1.0   \n",
              "1      53    1   0       140   203    1        0      155      1      3.1   \n",
              "2      70    1   0       145   174    0        1      125      1      2.6   \n",
              "3      61    1   0       148   203    0        1      161      0      0.0   \n",
              "4      62    0   0       138   294    1        1      106      0      1.9   \n",
              "...   ...  ...  ..       ...   ...  ...      ...      ...    ...      ...   \n",
              "1020   59    1   1       140   221    0        1      164      1      0.0   \n",
              "1021   60    1   0       125   258    0        0      141      1      2.8   \n",
              "1022   47    1   0       110   275    0        0      118      1      1.0   \n",
              "1023   50    0   0       110   254    0        0      159      0      0.0   \n",
              "1024   54    1   0       120   188    0        1      113      0      1.4   \n",
              "\n",
              "      slope  ca  thal  \n",
              "0         2   2     3  \n",
              "1         0   0     3  \n",
              "2         0   0     3  \n",
              "3         2   1     3  \n",
              "4         1   3     2  \n",
              "...     ...  ..   ...  \n",
              "1020      2   0     2  \n",
              "1021      1   1     3  \n",
              "1022      1   1     2  \n",
              "1023      2   0     2  \n",
              "1024      1   1     3  \n",
              "\n",
              "[1025 rows x 13 columns]"
            ]
          },
          "execution_count": 10,
          "metadata": {},
          "output_type": "execute_result"
        }
      ],
      "source": [
        " X"
      ]
    },
    {
      "cell_type": "code",
      "execution_count": 11,
      "metadata": {
        "colab": {
          "base_uri": "https://localhost:8080/"
        },
        "id": "F_gJ23ojHz-s",
        "outputId": "d60ec0a1-0fe5-4bd5-cfe5-b1b491e0aee3"
      },
      "outputs": [
        {
          "name": "stdout",
          "output_type": "stream",
          "text": [
            "0       0\n",
            "1       0\n",
            "2       0\n",
            "3       0\n",
            "4       0\n",
            "       ..\n",
            "1020    1\n",
            "1021    0\n",
            "1022    0\n",
            "1023    1\n",
            "1024    0\n",
            "Name: target, Length: 1025, dtype: int64\n"
          ]
        }
      ],
      "source": [
        "print(Y)"
      ]
    },
    {
      "cell_type": "markdown",
      "metadata": {
        "id": "DlgepQYXCEyH"
      },
      "source": [
        "## Training and Testing Data"
      ]
    },
    {
      "cell_type": "code",
      "execution_count": 12,
      "metadata": {
        "id": "ZQhoH8bECEyH"
      },
      "outputs": [],
      "source": [
        "X_train,X_test,Y_train,Y_test = train_test_split(X,Y,test_size=0.2,stratify=Y,random_state=2)"
      ]
    },
    {
      "cell_type": "code",
      "execution_count": 13,
      "metadata": {
        "colab": {
          "base_uri": "https://localhost:8080/"
        },
        "id": "yPFAZG60CEyH",
        "outputId": "515fc207-3e6e-42d1-8317-ae1e037e25b3"
      },
      "outputs": [
        {
          "name": "stdout",
          "output_type": "stream",
          "text": [
            "(1025, 13) (820, 13) (205, 13)\n"
          ]
        }
      ],
      "source": [
        "print(X.shape, X_train.shape, X_test.shape)"
      ]
    },
    {
      "cell_type": "markdown",
      "metadata": {
        "id": "-IMyB7E2CEyI"
      },
      "source": [
        "## Model Training"
      ]
    },
    {
      "cell_type": "code",
      "execution_count": 14,
      "metadata": {
        "id": "9f7kVjtgCEyI"
      },
      "outputs": [],
      "source": [
        "# Initialize models\n",
        "logistic_model = LogisticRegression(max_iter=1000)\n",
        "svm_model = SVC()\n",
        "decision_tree_model = DecisionTreeClassifier()\n",
        "gaussian_nb_model = GaussianNB()"
      ]
    },
    {
      "cell_type": "code",
      "execution_count": 15,
      "metadata": {
        "id": "uc24yMtxCEyI"
      },
      "outputs": [],
      "source": [
        "# Train the models\n",
        "models = [logistic_model, svm_model, decision_tree_model, gaussian_nb_model]\n",
        "model_names = [\"Logistic Regression\", \"SVM\", \"Decision Tree\", \"Gaussian Naive Bayes\"]"
      ]
    },
    {
      "cell_type": "markdown",
      "metadata": {
        "id": "VBz-oZKBCEyI"
      },
      "source": [
        "## Model Evaluation"
      ]
    },
    {
      "cell_type": "code",
      "execution_count": 16,
      "metadata": {
        "id": "nE-yjR67CEyI"
      },
      "outputs": [],
      "source": [
        "training_accuracies = []\n",
        "testing_accuracies = []"
      ]
    },
    {
      "cell_type": "code",
      "execution_count": 17,
      "metadata": {
        "colab": {
          "base_uri": "https://localhost:8080/"
        },
        "id": "zqVktKraCEyJ",
        "outputId": "8d32432c-4c18-4c2f-c3d9-0e565adf61fa"
      },
      "outputs": [
        {
          "name": "stdout",
          "output_type": "stream",
          "text": [
            "Accuracy on Logistic Regression Training Data: 85.85%\n",
            "Accuracy on Logistic Regression Test Data: 81.46%\n",
            "\n",
            "\n",
            "Accuracy on SVM Training Data: 72.07%\n",
            "Accuracy on SVM Test Data: 70.73%\n",
            "\n",
            "\n",
            "Accuracy on Decision Tree Training Data: 100.00%\n",
            "Accuracy on Decision Tree Test Data: 100.00%\n",
            "\n",
            "\n",
            "Accuracy on Gaussian Naive Bayes Training Data: 83.90%\n",
            "Accuracy on Gaussian Naive Bayes Test Data: 78.05%\n",
            "\n",
            "\n"
          ]
        }
      ],
      "source": [
        "for model, name in zip(models, model_names):\n",
        "    model.fit(X_train, Y_train)\n",
        "    X_train_prediction = model.predict(X_train)\n",
        "    training_data_accuracy = accuracy_score(X_train_prediction, Y_train)\n",
        "    training_accuracies.append(training_data_accuracy)\n",
        "    print(f\"Accuracy on {name} Training Data: {training_data_accuracy:.2%}\")\n",
        "\n",
        "    X_test_prediction = model.predict(X_test)\n",
        "    test_data_accuracy = accuracy_score(X_test_prediction, Y_test)\n",
        "    testing_accuracies.append(test_data_accuracy)\n",
        "    print(f\"Accuracy on {name} Test Data: {test_data_accuracy:.2%}\")\n",
        "    print(\"\\n\")\n"
      ]
    },
    {
      "cell_type": "code",
      "execution_count": 18,
      "metadata": {
        "id": "YgaRpqJjCEyJ"
      },
      "outputs": [],
      "source": [
        "import matplotlib.pyplot as plt"
      ]
    },
    {
      "cell_type": "code",
      "execution_count": 19,
      "metadata": {
        "colab": {
          "base_uri": "https://localhost:8080/",
          "height": 607
        },
        "id": "2KFRPGQLCEyK",
        "outputId": "e44550d7-50b8-4dc4-f9ea-3a1c524a1933"
      },
      "outputs": [
        {
          "data": {
            "image/png": "[encoded data removed]",
            "text/plain": [
              "<Figure size 1000x600 with 1 Axes>"
            ]
          },
          "metadata": {},
          "output_type": "display_data"
        }
      ],
      "source": [
        "\n",
        "# Create a bar plot for training and testing accuracy\n",
        "x = np.arange(len(model_names))\n",
        "width = 0.35\n",
        "\n",
        "fig, ax = plt.subplots(figsize=(10, 6))\n",
        "rects1 = ax.bar(x - width/2, training_accuracies, width, label='Training Accuracy', color='green')\n",
        "rects2 = ax.bar(x + width/2, testing_accuracies, width, label='Testing Accuracy',color='red')\n",
        "\n",
        "ax.set_xlabel('Models')\n",
        "ax.set_ylabel('Accuracy')\n",
        "ax.set_title('Accuracy Scores for Different Models')\n",
        "ax.set_xticks(x)\n",
        "ax.set_xticklabels(model_names)\n",
        "ax.legend()\n",
        "\n",
        "plt.tight_layout()\n",
        "plt.show()"
      ]
    },
    {
      "cell_type": "markdown",
      "metadata": {
        "id": "AZQ2yhFvCEyK"
      },
      "source": [
        "## User Testing"
      ]
    },
    {
      "cell_type": "code",
      "execution_count": 20,
      "metadata": {
        "id": "fpIW5NsVCEyK"
      },
      "outputs": [],
      "source": [
        "# Building the Predictive System\n",
        "input_data = (54, 1, 2, 120, 258, 0, 0, 147, 0, 0.4, 1, 0, 3)"
      ]
    },
    {
      "cell_type": "code",
      "execution_count": 21,
      "metadata": {
        "id": "ZK066fJZCEyL"
      },
      "outputs": [],
      "source": [
        "# Change the input data into an np array\n",
        "input_data_nparray = np.asarray(input_data)\n"
      ]
    },
    {
      "cell_type": "code",
      "execution_count": 22,
      "metadata": {
        "id": "o9bDYHftCEyL"
      },
      "outputs": [],
      "source": [
        "# Reshape the np array\n",
        "input_data_reshaped = input_data_nparray.reshape(1, -1)"
      ]
    },
    {
      "cell_type": "code",
      "execution_count": 23,
      "metadata": {
        "colab": {
          "base_uri": "https://localhost:8080/"
        },
        "id": "i_ud5RgiCEyL",
        "outputId": "c16d6f80-ada0-4a72-ce6a-d6f86b9d0829"
      },
      "outputs": [
        {
          "name": "stdout",
          "output_type": "stream",
          "text": [
            "Using Logistic Regression: The person has Heart Disease\n",
            "Using SVM: The person has Heart Disease\n",
            "Using Decision Tree: The person has Heart Disease\n",
            "Using Gaussian Naive Bayes: The person has Heart Disease\n"
          ]
        },
        {
          "name": "stderr",
          "output_type": "stream",
          "text": [
            "c:\\Users\\asus\\AppData\\Local\\Programs\\Python\\Python311\\Lib\\site-packages\\sklearn\\base.py:465: UserWarning: X does not have valid feature names, but LogisticRegression was fitted with feature names\n",
            "  warnings.warn(\n",
            "c:\\Users\\asus\\AppData\\Local\\Programs\\Python\\Python311\\Lib\\site-packages\\sklearn\\base.py:465: UserWarning: X does not have valid feature names, but SVC was fitted with feature names\n",
            "  warnings.warn(\n",
            "c:\\Users\\asus\\AppData\\Local\\Programs\\Python\\Python311\\Lib\\site-packages\\sklearn\\base.py:465: UserWarning: X does not have valid feature names, but DecisionTreeClassifier was fitted with feature names\n",
            "  warnings.warn(\n",
            "c:\\Users\\asus\\AppData\\Local\\Programs\\Python\\Python311\\Lib\\site-packages\\sklearn\\base.py:465: UserWarning: X does not have valid feature names, but GaussianNB was fitted with feature names\n",
            "  warnings.warn(\n"
          ]
        }
      ],
      "source": [
        "for model, name in zip(models, model_names):\n",
        "    prediction = model.predict(input_data_reshaped)\n",
        "    if prediction[0] == 0:\n",
        "        print(f\"Using {name}: The person does not have any Heart Disease\")\n",
        "    else:\n",
        "        print(f\"Using {name}: The person has Heart Disease\")"
      ]
    },
    {
      "cell_type": "markdown",
      "metadata": {
        "id": "NRQrc_vTEab0"
      },
      "source": [
        "## Showing Actual and predicted results of all model"
      ]
    },
    {
      "cell_type": "code",
      "execution_count": 24,
      "metadata": {
        "colab": {
          "base_uri": "https://localhost:8080/",
          "height": 423
        },
        "id": "1snebFlYCEyL",
        "outputId": "b2f66719-084f-44ab-e060-1a0a323ab739"
      },
      "outputs": [
        {
          "data": {
            "text/html": [
              "<div>\n",
              "<style scoped>\n",
              "    .dataframe tbody tr th:only-of-type {\n",
              "        vertical-align: middle;\n",
              "    }\n",
              "\n",
              "    .dataframe tbody tr th {\n",
              "        vertical-align: top;\n",
              "    }\n",
              "\n",
              "    .dataframe thead th {\n",
              "        text-align: right;\n",
              "    }\n",
              "</style>\n",
              "<table border=\"1\" class=\"dataframe\">\n",
              "  <thead>\n",
              "    <tr style=\"text-align: right;\">\n",
              "      <th></th>\n",
              "      <th>Model</th>\n",
              "      <th>Actual</th>\n",
              "      <th>Predicted</th>\n",
              "    </tr>\n",
              "  </thead>\n",
              "  <tbody>\n",
              "    <tr>\n",
              "      <th>0</th>\n",
              "      <td>Logistic Regression</td>\n",
              "      <td>0</td>\n",
              "      <td>0</td>\n",
              "    </tr>\n",
              "    <tr>\n",
              "      <th>1</th>\n",
              "      <td>Logistic Regression</td>\n",
              "      <td>1</td>\n",
              "      <td>1</td>\n",
              "    </tr>\n",
              "    <tr>\n",
              "      <th>2</th>\n",
              "      <td>Logistic Regression</td>\n",
              "      <td>0</td>\n",
              "      <td>1</td>\n",
              "    </tr>\n",
              "    <tr>\n",
              "      <th>3</th>\n",
              "      <td>Logistic Regression</td>\n",
              "      <td>0</td>\n",
              "      <td>0</td>\n",
              "    </tr>\n",
              "    <tr>\n",
              "      <th>4</th>\n",
              "      <td>Logistic Regression</td>\n",
              "      <td>1</td>\n",
              "      <td>1</td>\n",
              "    </tr>\n",
              "    <tr>\n",
              "      <th>...</th>\n",
              "      <td>...</td>\n",
              "      <td>...</td>\n",
              "      <td>...</td>\n",
              "    </tr>\n",
              "    <tr>\n",
              "      <th>815</th>\n",
              "      <td>Gaussian Naive Bayes</td>\n",
              "      <td>0</td>\n",
              "      <td>0</td>\n",
              "    </tr>\n",
              "    <tr>\n",
              "      <th>816</th>\n",
              "      <td>Gaussian Naive Bayes</td>\n",
              "      <td>0</td>\n",
              "      <td>1</td>\n",
              "    </tr>\n",
              "    <tr>\n",
              "      <th>817</th>\n",
              "      <td>Gaussian Naive Bayes</td>\n",
              "      <td>1</td>\n",
              "      <td>1</td>\n",
              "    </tr>\n",
              "    <tr>\n",
              "      <th>818</th>\n",
              "      <td>Gaussian Naive Bayes</td>\n",
              "      <td>1</td>\n",
              "      <td>1</td>\n",
              "    </tr>\n",
              "    <tr>\n",
              "      <th>819</th>\n",
              "      <td>Gaussian Naive Bayes</td>\n",
              "      <td>0</td>\n",
              "      <td>0</td>\n",
              "    </tr>\n",
              "  </tbody>\n",
              "</table>\n",
              "<p>820 rows × 3 columns</p>\n",
              "</div>"
            ],
            "text/plain": [
              "                    Model Actual Predicted\n",
              "0     Logistic Regression      0         0\n",
              "1     Logistic Regression      1         1\n",
              "2     Logistic Regression      0         1\n",
              "3     Logistic Regression      0         0\n",
              "4     Logistic Regression      1         1\n",
              "..                    ...    ...       ...\n",
              "815  Gaussian Naive Bayes      0         0\n",
              "816  Gaussian Naive Bayes      0         1\n",
              "817  Gaussian Naive Bayes      1         1\n",
              "818  Gaussian Naive Bayes      1         1\n",
              "819  Gaussian Naive Bayes      0         0\n",
              "\n",
              "[820 rows x 3 columns]"
            ]
          },
          "execution_count": 24,
          "metadata": {},
          "output_type": "execute_result"
        }
      ],
      "source": [
        "# Create a DataFrame to store results\n",
        "results_df = pd.DataFrame(columns=[\"Model\", \"Actual\", \"Predicted\"])\n",
        "\n",
        "# Test each model on the testing dataset and populate the DataFrame\n",
        "for model, name in zip(models, model_names):\n",
        "    model.fit(X_train, Y_train)\n",
        "    Y_test_prediction = model.predict(X_test)\n",
        "\n",
        "    model_results = pd.DataFrame({\n",
        "        \"Model\": [name] * len(Y_test),\n",
        "        \"Actual\": Y_test,\n",
        "        \"Predicted\": Y_test_prediction\n",
        "    })\n",
        "\n",
        "    results_df = pd.concat([results_df, model_results], ignore_index=True)\n",
        "\n",
        "# Print the DataFrame\n",
        "results_df"
      ]
    },
    {
      "cell_type": "markdown",
      "metadata": {
        "id": "QFgE9CcME025"
      },
      "source": [
        "# plot confusion matrix"
      ]
    },
    {
      "cell_type": "code",
      "execution_count": 28,
      "metadata": {},
      "outputs": [
        {
          "name": "stdout",
          "output_type": "stream",
          "text": [
            "Collecting seaborn\n",
            "  Downloading seaborn-0.13.0-py3-none-any.whl.metadata (5.3 kB)\n",
            "Requirement already satisfied: numpy!=1.24.0,>=1.20 in c:\\users\\asus\\appdata\\local\\programs\\python\\python311\\lib\\site-packages (from seaborn) (1.26.0)\n",
            "Requirement already satisfied: pandas>=1.2 in c:\\users\\asus\\appdata\\local\\programs\\python\\python311\\lib\\site-packages (from seaborn) (2.1.1)\n",
            "Requirement already satisfied: matplotlib!=3.6.1,>=3.3 in c:\\users\\asus\\appdata\\local\\programs\\python\\python311\\lib\\site-packages (from seaborn) (3.8.0)\n",
            "Requirement already satisfied: contourpy>=1.0.1 in c:\\users\\asus\\appdata\\local\\programs\\python\\python311\\lib\\site-packages (from matplotlib!=3.6.1,>=3.3->seaborn) (1.1.1)\n",
            "Requirement already satisfied: cycler>=0.10 in c:\\users\\asus\\appdata\\local\\programs\\python\\python311\\lib\\site-packages (from matplotlib!=3.6.1,>=3.3->seaborn) (0.12.1)\n",
            "Requirement already satisfied: fonttools>=4.22.0 in c:\\users\\asus\\appdata\\local\\programs\\python\\python311\\lib\\site-packages (from matplotlib!=3.6.1,>=3.3->seaborn) (4.43.1)\n",
            "Requirement already satisfied: kiwisolver>=1.0.1 in c:\\users\\asus\\appdata\\local\\programs\\python\\python311\\lib\\site-packages (from matplotlib!=3.6.1,>=3.3->seaborn) (1.4.5)\n",
            "Requirement already satisfied: packaging>=20.0 in c:\\users\\asus\\appdata\\roaming\\python\\python311\\site-packages (from matplotlib!=3.6.1,>=3.3->seaborn) (23.2)\n",
            "Requirement already satisfied: pillow>=6.2.0 in c:\\users\\asus\\appdata\\local\\programs\\python\\python311\\lib\\site-packages (from matplotlib!=3.6.1,>=3.3->seaborn) (10.0.1)\n",
            "Requirement already satisfied: pyparsing>=2.3.1 in c:\\users\\asus\\appdata\\local\\programs\\python\\python311\\lib\\site-packages (from matplotlib!=3.6.1,>=3.3->seaborn) (3.1.1)\n",
            "Requirement already satisfied: python-dateutil>=2.7 in c:\\users\\asus\\appdata\\roaming\\python\\python311\\site-packages (from matplotlib!=3.6.1,>=3.3->seaborn) (2.8.2)\n",
            "Requirement already satisfied: pytz>=2020.1 in c:\\users\\asus\\appdata\\local\\programs\\python\\python311\\lib\\site-packages (from pandas>=1.2->seaborn) (2023.3.post1)\n",
            "Requirement already satisfied: tzdata>=2022.1 in c:\\users\\asus\\appdata\\local\\programs\\python\\python311\\lib\\site-packages (from pandas>=1.2->seaborn) (2023.3)\n",
            "Requirement already satisfied: six>=1.5 in c:\\users\\asus\\appdata\\roaming\\python\\python311\\site-packages (from python-dateutil>=2.7->matplotlib!=3.6.1,>=3.3->seaborn) (1.16.0)\n",
            "Downloading seaborn-0.13.0-py3-none-any.whl (294 kB)\n",
            "   ---------------------------------------- 0.0/294.6 kB ? eta -:--:--\n",
            "   - -------------------------------------- 10.2/294.6 kB ? eta -:--:--\n",
            "   - -------------------------------------- 10.2/294.6 kB ? eta -:--:--\n",
            "   - -------------------------------------- 10.2/294.6 kB ? eta -:--:--\n",
            "   - -------------------------------------- 10.2/294.6 kB ? eta -:--:--\n",
            "   - -------------------------------------- 10.2/294.6 kB ? eta -:--:--\n",
            "   - -------------------------------------- 10.2/294.6 kB ? eta -:--:--\n",
            "   - -------------------------------------- 10.2/294.6 kB ? eta -:--:--\n",
            "   - -------------------------------------- 10.2/294.6 kB ? eta -:--:--\n",
            "   - -------------------------------------- 10.2/294.6 kB ? eta -:--:--\n",
            "   - -------------------------------------- 10.2/294.6 kB ? eta -:--:--\n",
            "   - -------------------------------------- 10.2/294.6 kB ? eta -:--:--\n",
            "   - -------------------------------------- 10.2/294.6 kB ? eta -:--:--\n",
            "   - -------------------------------------- 10.2/294.6 kB ? eta -:--:--\n",
            "   - -------------------------------------- 10.2/294.6 kB ? eta -:--:--\n",
            "   - -------------------------------------- 10.2/294.6 kB ? eta -:--:--\n",
            "   - -------------------------------------- 10.2/294.6 kB ? eta -:--:--\n",
            "   - -------------------------------------- 10.2/294.6 kB ? eta -:--:--\n",
            "   - -------------------------------------- 10.2/294.6 kB ? eta -:--:--\n",
            "   - -------------------------------------- 10.2/294.6 kB ? eta -:--:--\n",
            "   - -------------------------------------- 10.2/294.6 kB ? eta -:--:--\n",
            "   ---- ----------------------------------- 30.7/294.6 kB 22.2 kB/s eta 0:00:12\n",
            "   ---- ----------------------------------- 30.7/294.6 kB 22.2 kB/s eta 0:00:12\n",
            "   ---- ----------------------------------- 30.7/294.6 kB 22.2 kB/s eta 0:00:12\n",
            "   ---- ----------------------------------- 30.7/294.6 kB 22.2 kB/s eta 0:00:12\n",
            "   ---- ----------------------------------- 30.7/294.6 kB 22.2 kB/s eta 0:00:12\n",
            "   ---- ----------------------------------- 30.7/294.6 kB 22.2 kB/s eta 0:00:12\n",
            "   ---- ----------------------------------- 30.7/294.6 kB 22.2 kB/s eta 0:00:12\n",
            "   ---- ----------------------------------- 30.7/294.6 kB 22.2 kB/s eta 0:00:12\n",
            "   ---- ----------------------------------- 30.7/294.6 kB 22.2 kB/s eta 0:00:12\n",
            "   ---- ----------------------------------- 30.7/294.6 kB 22.2 kB/s eta 0:00:12\n",
            "   ---- ----------------------------------- 30.7/294.6 kB 22.2 kB/s eta 0:00:12\n",
            "   ---- ----------------------------------- 30.7/294.6 kB 22.2 kB/s eta 0:00:12\n",
            "   ---- ----------------------------------- 30.7/294.6 kB 22.2 kB/s eta 0:00:12\n",
            "   ---- ----------------------------------- 30.7/294.6 kB 22.2 kB/s eta 0:00:12\n",
            "   ---- ----------------------------------- 30.7/294.6 kB 22.2 kB/s eta 0:00:12\n",
            "   ---- ----------------------------------- 30.7/294.6 kB 22.2 kB/s eta 0:00:12\n",
            "   ---- ----------------------------------- 30.7/294.6 kB 22.2 kB/s eta 0:00:12\n",
            "   ---- ----------------------------------- 30.7/294.6 kB 22.2 kB/s eta 0:00:12\n",
            "   ---- ----------------------------------- 30.7/294.6 kB 22.2 kB/s eta 0:00:12\n",
            "   ---- ----------------------------------- 30.7/294.6 kB 22.2 kB/s eta 0:00:12\n",
            "   ---- ----------------------------------- 30.7/294.6 kB 22.2 kB/s eta 0:00:12\n",
            "   ---- ----------------------------------- 30.7/294.6 kB 22.2 kB/s eta 0:00:12\n",
            "   ---- ----------------------------------- 30.7/294.6 kB 22.2 kB/s eta 0:00:12\n",
            "   ---- ----------------------------------- 30.7/294.6 kB 22.2 kB/s eta 0:00:12\n",
            "   ---- ----------------------------------- 30.7/294.6 kB 22.2 kB/s eta 0:00:12\n",
            "   ---- ----------------------------------- 30.7/294.6 kB 22.2 kB/s eta 0:00:12\n",
            "   ---- ----------------------------------- 30.7/294.6 kB 22.2 kB/s eta 0:00:12\n",
            "   ---- ----------------------------------- 30.7/294.6 kB 22.2 kB/s eta 0:00:12\n",
            "   ---- ----------------------------------- 30.7/294.6 kB 22.2 kB/s eta 0:00:12\n",
            "   ---- ----------------------------------- 30.7/294.6 kB 22.2 kB/s eta 0:00:12\n",
            "   ---- ----------------------------------- 30.7/294.6 kB 22.2 kB/s eta 0:00:12\n",
            "   ---- ----------------------------------- 30.7/294.6 kB 22.2 kB/s eta 0:00:12\n",
            "   ---- ----------------------------------- 30.7/294.6 kB 22.2 kB/s eta 0:00:12\n",
            "   ---- ----------------------------------- 30.7/294.6 kB 22.2 kB/s eta 0:00:12\n",
            "   ----- ---------------------------------- 41.0/294.6 kB 12.4 kB/s eta 0:00:21\n",
            "   ----- ---------------------------------- 41.0/294.6 kB 12.4 kB/s eta 0:00:21\n",
            "   ----- ---------------------------------- 41.0/294.6 kB 12.4 kB/s eta 0:00:21\n",
            "   ----- ---------------------------------- 41.0/294.6 kB 12.4 kB/s eta 0:00:21\n",
            "   ----- ---------------------------------- 41.0/294.6 kB 12.4 kB/s eta 0:00:21\n",
            "   ----- ---------------------------------- 41.0/294.6 kB 12.4 kB/s eta 0:00:21\n",
            "   ----- ---------------------------------- 41.0/294.6 kB 12.4 kB/s eta 0:00:21\n",
            "   ----- ---------------------------------- 41.0/294.6 kB 12.4 kB/s eta 0:00:21\n",
            "   ----- ---------------------------------- 41.0/294.6 kB 12.4 kB/s eta 0:00:21\n",
            "   ----- ---------------------------------- 41.0/294.6 kB 12.4 kB/s eta 0:00:21\n",
            "   ----- ---------------------------------- 41.0/294.6 kB 12.4 kB/s eta 0:00:21\n",
            "   ----- ---------------------------------- 41.0/294.6 kB 12.4 kB/s eta 0:00:21\n",
            "   ----- ---------------------------------- 41.0/294.6 kB 12.4 kB/s eta 0:00:21\n",
            "   ----- ---------------------------------- 41.0/294.6 kB 12.4 kB/s eta 0:00:21\n",
            "   ----- ---------------------------------- 41.0/294.6 kB 12.4 kB/s eta 0:00:21\n",
            "   ----- ---------------------------------- 41.0/294.6 kB 12.4 kB/s eta 0:00:21\n",
            "   ----- ---------------------------------- 41.0/294.6 kB 12.4 kB/s eta 0:00:21\n",
            "   ----- ---------------------------------- 41.0/294.6 kB 12.4 kB/s eta 0:00:21\n",
            "   ----- ---------------------------------- 41.0/294.6 kB 12.4 kB/s eta 0:00:21\n",
            "   ----- ---------------------------------- 41.0/294.6 kB 12.4 kB/s eta 0:00:21\n",
            "   ----- ---------------------------------- 41.0/294.6 kB 12.4 kB/s eta 0:00:21\n",
            "   ----- ---------------------------------- 41.0/294.6 kB 12.4 kB/s eta 0:00:21\n",
            "   -------- ------------------------------- 61.4/294.6 kB 14.5 kB/s eta 0:00:17\n",
            "   -------- ------------------------------- 61.4/294.6 kB 14.5 kB/s eta 0:00:17\n",
            "   -------- ------------------------------- 61.4/294.6 kB 14.5 kB/s eta 0:00:17\n",
            "   -------- ------------------------------- 61.4/294.6 kB 14.5 kB/s eta 0:00:17\n",
            "   -------- ------------------------------- 61.4/294.6 kB 14.5 kB/s eta 0:00:17\n",
            "   -------- ------------------------------- 61.4/294.6 kB 14.5 kB/s eta 0:00:17\n",
            "   -------- ------------------------------- 61.4/294.6 kB 14.5 kB/s eta 0:00:17\n",
            "   -------- ------------------------------- 61.4/294.6 kB 14.5 kB/s eta 0:00:17\n",
            "   -------- ------------------------------- 61.4/294.6 kB 14.5 kB/s eta 0:00:17\n",
            "   -------- ------------------------------- 61.4/294.6 kB 14.5 kB/s eta 0:00:17\n",
            "   -------- ------------------------------- 61.4/294.6 kB 14.5 kB/s eta 0:00:17\n",
            "   -------- ------------------------------- 61.4/294.6 kB 14.5 kB/s eta 0:00:17\n",
            "   -------- ------------------------------- 61.4/294.6 kB 14.5 kB/s eta 0:00:17\n",
            "   -------- ------------------------------- 61.4/294.6 kB 14.5 kB/s eta 0:00:17\n",
            "   -------- ------------------------------- 61.4/294.6 kB 14.5 kB/s eta 0:00:17\n",
            "   --------- ------------------------------ 71.7/294.6 kB 14.5 kB/s eta 0:00:16\n",
            "   --------- ------------------------------ 71.7/294.6 kB 14.5 kB/s eta 0:00:16\n",
            "   --------- ------------------------------ 71.7/294.6 kB 14.5 kB/s eta 0:00:16\n",
            "   --------- ------------------------------ 71.7/294.6 kB 14.5 kB/s eta 0:00:16\n",
            "   --------- ------------------------------ 71.7/294.6 kB 14.5 kB/s eta 0:00:16\n",
            "   --------- ------------------------------ 71.7/294.6 kB 14.5 kB/s eta 0:00:16\n",
            "   ------------ --------------------------- 92.2/294.6 kB 18.1 kB/s eta 0:00:12\n",
            "   ------------ --------------------------- 92.2/294.6 kB 18.1 kB/s eta 0:00:12\n",
            "   -------------- ------------------------ 112.6/294.6 kB 22.3 kB/s eta 0:00:09\n",
            "   -------------- ------------------------ 112.6/294.6 kB 22.3 kB/s eta 0:00:09\n",
            "   -------------- ------------------------ 112.6/294.6 kB 22.3 kB/s eta 0:00:09\n",
            "   -------------- ------------------------ 112.6/294.6 kB 22.3 kB/s eta 0:00:09\n",
            "   -------------- ------------------------ 112.6/294.6 kB 22.3 kB/s eta 0:00:09\n",
            "   ---------------- ---------------------- 122.9/294.6 kB 23.3 kB/s eta 0:00:08\n",
            "   ---------------- ---------------------- 122.9/294.6 kB 23.3 kB/s eta 0:00:08\n",
            "   ---------------- ---------------------- 122.9/294.6 kB 23.3 kB/s eta 0:00:08\n",
            "   ---------------- ---------------------- 122.9/294.6 kB 23.3 kB/s eta 0:00:08\n",
            "   ---------------- ---------------------- 122.9/294.6 kB 23.3 kB/s eta 0:00:08\n",
            "   ------------------ -------------------- 143.4/294.6 kB 26.3 kB/s eta 0:00:06\n",
            "   ------------------ -------------------- 143.4/294.6 kB 26.3 kB/s eta 0:00:06\n",
            "   ------------------ -------------------- 143.4/294.6 kB 26.3 kB/s eta 0:00:06\n",
            "   ------------------ -------------------- 143.4/294.6 kB 26.3 kB/s eta 0:00:06\n",
            "   ------------------ -------------------- 143.4/294.6 kB 26.3 kB/s eta 0:00:06\n",
            "   ------------------ -------------------- 143.4/294.6 kB 26.3 kB/s eta 0:00:06\n",
            "   ------------------ -------------------- 143.4/294.6 kB 26.3 kB/s eta 0:00:06\n",
            "   ------------------ -------------------- 143.4/294.6 kB 26.3 kB/s eta 0:00:06\n",
            "   ------------------ -------------------- 143.4/294.6 kB 26.3 kB/s eta 0:00:06\n",
            "   ------------------ -------------------- 143.4/294.6 kB 26.3 kB/s eta 0:00:06\n",
            "   ------------------ -------------------- 143.4/294.6 kB 26.3 kB/s eta 0:00:06\n",
            "   ------------------ -------------------- 143.4/294.6 kB 26.3 kB/s eta 0:00:06\n",
            "   ------------------ -------------------- 143.4/294.6 kB 26.3 kB/s eta 0:00:06\n",
            "   ------------------ -------------------- 143.4/294.6 kB 26.3 kB/s eta 0:00:06\n",
            "   ----------------------- --------------- 174.1/294.6 kB 28.6 kB/s eta 0:00:05\n",
            "   ----------------------- --------------- 174.1/294.6 kB 28.6 kB/s eta 0:00:05\n",
            "   ----------------------- --------------- 174.1/294.6 kB 28.6 kB/s eta 0:00:05\n",
            "   ----------------------- --------------- 174.1/294.6 kB 28.6 kB/s eta 0:00:05\n",
            "   ----------------------- --------------- 174.1/294.6 kB 28.6 kB/s eta 0:00:05\n",
            "   ----------------------- --------------- 174.1/294.6 kB 28.6 kB/s eta 0:00:05\n",
            "   ----------------------- --------------- 174.1/294.6 kB 28.6 kB/s eta 0:00:05\n",
            "   ----------------------- --------------- 174.1/294.6 kB 28.6 kB/s eta 0:00:05\n",
            "   ----------------------- --------------- 174.1/294.6 kB 28.6 kB/s eta 0:00:05\n",
            "   ----------------------- --------------- 174.1/294.6 kB 28.6 kB/s eta 0:00:05\n",
            "   ----------------------- --------------- 174.1/294.6 kB 28.6 kB/s eta 0:00:05\n",
            "   ----------------------- --------------- 174.1/294.6 kB 28.6 kB/s eta 0:00:05\n",
            "   ----------------------- --------------- 174.1/294.6 kB 28.6 kB/s eta 0:00:05\n",
            "   ----------------------- --------------- 174.1/294.6 kB 28.6 kB/s eta 0:00:05\n",
            "   ----------------------- --------------- 174.1/294.6 kB 28.6 kB/s eta 0:00:05\n",
            "   ----------------------- --------------- 174.1/294.6 kB 28.6 kB/s eta 0:00:05\n",
            "   ----------------------- --------------- 174.1/294.6 kB 28.6 kB/s eta 0:00:05\n",
            "   ----------------------- --------------- 174.1/294.6 kB 28.6 kB/s eta 0:00:05\n",
            "   ----------------------- --------------- 174.1/294.6 kB 28.6 kB/s eta 0:00:05\n",
            "   ----------------------- --------------- 174.1/294.6 kB 28.6 kB/s eta 0:00:05\n",
            "   ----------------------- --------------- 174.1/294.6 kB 28.6 kB/s eta 0:00:05\n",
            "   ----------------------- --------------- 174.1/294.6 kB 28.6 kB/s eta 0:00:05\n",
            "   ----------------------- --------------- 174.1/294.6 kB 28.6 kB/s eta 0:00:05\n",
            "   ----------------------- --------------- 174.1/294.6 kB 28.6 kB/s eta 0:00:05\n",
            "   ----------------------- --------------- 174.1/294.6 kB 28.6 kB/s eta 0:00:05\n",
            "   ------------------------- ------------- 194.6/294.6 kB 26.9 kB/s eta 0:00:04\n",
            "   --------------------------- ----------- 204.8/294.6 kB 28.1 kB/s eta 0:00:04\n",
            "   --------------------------- ----------- 204.8/294.6 kB 28.1 kB/s eta 0:00:04\n",
            "   --------------------------- ----------- 204.8/294.6 kB 28.1 kB/s eta 0:00:04\n",
            "   --------------------------- ----------- 204.8/294.6 kB 28.1 kB/s eta 0:00:04\n",
            "   --------------------------- ----------- 204.8/294.6 kB 28.1 kB/s eta 0:00:04\n",
            "   --------------------------- ----------- 204.8/294.6 kB 28.1 kB/s eta 0:00:04\n",
            "   --------------------------- ----------- 204.8/294.6 kB 28.1 kB/s eta 0:00:04\n",
            "   --------------------------- ----------- 204.8/294.6 kB 28.1 kB/s eta 0:00:04\n",
            "   --------------------------- ----------- 204.8/294.6 kB 28.1 kB/s eta 0:00:04\n",
            "   --------------------------- ----------- 204.8/294.6 kB 28.1 kB/s eta 0:00:04\n",
            "   --------------------------- ----------- 204.8/294.6 kB 28.1 kB/s eta 0:00:04\n",
            "   --------------------------- ----------- 204.8/294.6 kB 28.1 kB/s eta 0:00:04\n",
            "   --------------------------- ----------- 204.8/294.6 kB 28.1 kB/s eta 0:00:04\n",
            "   --------------------------- ----------- 204.8/294.6 kB 28.1 kB/s eta 0:00:04\n",
            "   ----------------------------- --------- 225.3/294.6 kB 28.4 kB/s eta 0:00:03\n",
            "   ----------------------------- --------- 225.3/294.6 kB 28.4 kB/s eta 0:00:03\n",
            "   ----------------------------- --------- 225.3/294.6 kB 28.4 kB/s eta 0:00:03\n",
            "   ----------------------------- --------- 225.3/294.6 kB 28.4 kB/s eta 0:00:03\n",
            "   ----------------------------- --------- 225.3/294.6 kB 28.4 kB/s eta 0:00:03\n",
            "   ----------------------------- --------- 225.3/294.6 kB 28.4 kB/s eta 0:00:03\n",
            "   ----------------------------- --------- 225.3/294.6 kB 28.4 kB/s eta 0:00:03\n",
            "   ----------------------------- --------- 225.3/294.6 kB 28.4 kB/s eta 0:00:03\n",
            "   ----------------------------- --------- 225.3/294.6 kB 28.4 kB/s eta 0:00:03\n",
            "   ----------------------------- --------- 225.3/294.6 kB 28.4 kB/s eta 0:00:03\n",
            "   ----------------------------- --------- 225.3/294.6 kB 28.4 kB/s eta 0:00:03\n",
            "   ----------------------------- --------- 225.3/294.6 kB 28.4 kB/s eta 0:00:03\n",
            "   ----------------------------- --------- 225.3/294.6 kB 28.4 kB/s eta 0:00:03\n",
            "   ----------------------------- --------- 225.3/294.6 kB 28.4 kB/s eta 0:00:03\n",
            "   ----------------------------- --------- 225.3/294.6 kB 28.4 kB/s eta 0:00:03\n",
            "   ----------------------------- --------- 225.3/294.6 kB 28.4 kB/s eta 0:00:03\n",
            "   ----------------------------- --------- 225.3/294.6 kB 28.4 kB/s eta 0:00:03\n",
            "   ----------------------------- --------- 225.3/294.6 kB 28.4 kB/s eta 0:00:03\n",
            "   ----------------------------- --------- 225.3/294.6 kB 28.4 kB/s eta 0:00:03\n",
            "   ----------------------------- --------- 225.3/294.6 kB 28.4 kB/s eta 0:00:03\n",
            "   ------------------------------- ------- 235.5/294.6 kB 26.5 kB/s eta 0:00:03\n",
            "   ------------------------------- ------- 235.5/294.6 kB 26.5 kB/s eta 0:00:03\n",
            "   ------------------------------- ------- 235.5/294.6 kB 26.5 kB/s eta 0:00:03\n",
            "   ------------------------------- ------- 235.5/294.6 kB 26.5 kB/s eta 0:00:03\n",
            "   ------------------------------- ------- 235.5/294.6 kB 26.5 kB/s eta 0:00:03\n",
            "   ------------------------------- ------- 235.5/294.6 kB 26.5 kB/s eta 0:00:03\n",
            "   ------------------------------- ------- 235.5/294.6 kB 26.5 kB/s eta 0:00:03\n",
            "   ------------------------------- ------- 235.5/294.6 kB 26.5 kB/s eta 0:00:03\n",
            "   ------------------------------- ------- 235.5/294.6 kB 26.5 kB/s eta 0:00:03\n",
            "   ------------------------------- ------- 235.5/294.6 kB 26.5 kB/s eta 0:00:03\n",
            "   ------------------------------- ------- 235.5/294.6 kB 26.5 kB/s eta 0:00:03\n",
            "   ------------------------------- ------- 235.5/294.6 kB 26.5 kB/s eta 0:00:03\n",
            "   ------------------------------- ------- 235.5/294.6 kB 26.5 kB/s eta 0:00:03\n",
            "   ------------------------------- ------- 235.5/294.6 kB 26.5 kB/s eta 0:00:03\n",
            "   --------------------------------- ----- 256.0/294.6 kB 26.8 kB/s eta 0:00:02\n",
            "   ------------------------------------ -- 276.5/294.6 kB 28.8 kB/s eta 0:00:01\n",
            "   --------------------------------------- 294.6/294.6 kB 30.7 kB/s eta 0:00:00\n",
            "Installing collected packages: seaborn\n",
            "Successfully installed seaborn-0.13.0\n",
            "Note: you may need to restart the kernel to use updated packages.\n"
          ]
        },
        {
          "name": "stderr",
          "output_type": "stream",
          "text": [
            "WARNING: Skipping c:\\Users\\asus\\AppData\\Local\\Programs\\Python\\Python311\\Lib\\site-packages\\blis-0.7.11.dist-info due to invalid metadata entry 'name'\n",
            "WARNING: Skipping c:\\Users\\asus\\AppData\\Local\\Programs\\Python\\Python311\\Lib\\site-packages\\blis-0.7.11.dist-info due to invalid metadata entry 'name'\n",
            "WARNING: Skipping c:\\Users\\asus\\AppData\\Local\\Programs\\Python\\Python311\\Lib\\site-packages\\blis-0.7.11.dist-info due to invalid metadata entry 'name'\n",
            "WARNING: Skipping c:\\Users\\asus\\AppData\\Local\\Programs\\Python\\Python311\\Lib\\site-packages\\blis-0.7.11.dist-info due to invalid metadata entry 'name'\n",
            "WARNING: Skipping c:\\Users\\asus\\AppData\\Local\\Programs\\Python\\Python311\\Lib\\site-packages\\blis-0.7.11.dist-info due to invalid metadata entry 'name'\n",
            "WARNING: Skipping c:\\Users\\asus\\AppData\\Local\\Programs\\Python\\Python311\\Lib\\site-packages\\blis-0.7.11.dist-info due to invalid metadata entry 'name'\n",
            "WARNING: Skipping c:\\Users\\asus\\AppData\\Local\\Programs\\Python\\Python311\\Lib\\site-packages\\blis-0.7.11.dist-info due to invalid metadata entry 'name'\n"
          ]
        }
      ],
      "source": [
        "pip install seaborn"
      ]
    },
    {
      "cell_type": "code",
      "execution_count": 29,
      "metadata": {
        "id": "PAF4H0iZE-cO"
      },
      "outputs": [],
      "source": [
        "import seaborn as sns\n",
        "from sklearn.metrics import confusion_matrix"
      ]
    },
    {
      "cell_type": "code",
      "execution_count": 30,
      "metadata": {
        "id": "iTC1geo8D9gG"
      },
      "outputs": [],
      "source": [
        "def plot_confusion_matrix(ax, model, X_test, Y_test, model_name):\n",
        "    Y_pred = model.predict(X_test)\n",
        "    cm = confusion_matrix(Y_test, Y_pred)\n",
        "\n",
        "    sns.heatmap(cm, annot=True, fmt=\"d\", cmap=\"Blues\", xticklabels=[\"Healthy\", \"Disease\"], yticklabels=[\"Healthy\", \"Disease\"], ax=ax)\n",
        "    ax.set_title(f'Confusion Matrix for {model_name}')\n"
      ]
    },
    {
      "cell_type": "code",
      "execution_count": 31,
      "metadata": {
        "colab": {
          "base_uri": "https://localhost:8080/",
          "height": 783
        },
        "id": "H-LL4VHGE6MF",
        "outputId": "cb5a0e16-edf9-4fa8-fcff-4ad1576fd7d3"
      },
      "outputs": [
        {
          "data": {
            "image/png": "[encoded data removed]",
            "text/plain": [
              "<Figure size 1200x800 with 8 Axes>"
            ]
          },
          "metadata": {},
          "output_type": "display_data"
        }
      ],
      "source": [
        "# Create a grid of confusion matrices\n",
        "num_models = len(models)\n",
        "num_cols = 2\n",
        "num_rows = (num_models + 1) // num_cols\n",
        "\n",
        "fig, axes = plt.subplots(num_rows, num_cols, figsize=(12, 8))\n",
        "axes = axes.ravel()\n",
        "\n",
        "for i, (model, name) in enumerate(zip(models, model_names)):\n",
        "    plot_confusion_matrix(axes[i], model, X_test, Y_test, name)\n",
        "\n",
        "# Remove empty subplots if the number of models is not a multiple of num_cols\n",
        "if num_models % num_cols != 0:\n",
        "    for i in range(num_models, num_rows * num_cols):\n",
        "        fig.delaxes(axes[i])\n",
        "\n",
        "plt.tight_layout()\n",
        "plt.show()"
      ]
    },
    {
      "cell_type": "code",
      "execution_count": null,
      "metadata": {
        "id": "HRPs4TJAFEgu"
      },
      "outputs": [],
      "source": []
    }
  ],
  "metadata": {
    "colab": {
      "provenance": []
    },
    "kernelspec": {
      "display_name": "Python 3",
      "language": "python",
      "name": "python3"
    },
    "language_info": {
      "codemirror_mode": {
        "name": "ipython",
        "version": 3
      },
      "file_extension": ".py",
      "mimetype": "text/x-python",
      "name": "python",
      "nbconvert_exporter": "python",
      "pygments_lexer": "ipython3",
      "version": "3.11.5"
    }
  },
  "nbformat": 4,
  "nbformat_minor": 0
}
