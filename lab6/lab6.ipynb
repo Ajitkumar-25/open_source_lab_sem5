{
 "cells": [
  {
   "cell_type": "code",
   "execution_count": 1,
   "metadata": {},
   "outputs": [
    {
     "name": "stdout",
     "output_type": "stream",
     "text": [
      "Requirement already satisfied: requests in c:\\users\\asus\\appdata\\local\\programs\\python\\python311\\lib\\site-packages (2.31.0)\n",
      "Requirement already satisfied: charset-normalizer<4,>=2 in c:\\users\\asus\\appdata\\local\\programs\\python\\python311\\lib\\site-packages (from requests) (3.3.0)\n",
      "Requirement already satisfied: idna<4,>=2.5 in c:\\users\\asus\\appdata\\local\\programs\\python\\python311\\lib\\site-packages (from requests) (3.4)\n",
      "Requirement already satisfied: urllib3<3,>=1.21.1 in c:\\users\\asus\\appdata\\local\\programs\\python\\python311\\lib\\site-packages (from requests) (2.0.6)\n",
      "Requirement already satisfied: certifi>=2017.4.17 in c:\\users\\asus\\appdata\\local\\programs\\python\\python311\\lib\\site-packages (from requests) (2023.7.22)\n",
      "Note: you may need to restart the kernel to use updated packages.\n"
     ]
    }
   ],
   "source": [
    "pip install requests"
   ]
  },
  {
   "cell_type": "code",
   "execution_count": 2,
   "metadata": {},
   "outputs": [
    {
     "name": "stdout",
     "output_type": "stream",
     "text": [
      "Requirement already satisfied: beautifulsoup4 in c:\\users\\asus\\appdata\\local\\programs\\python\\python311\\lib\\site-packages (4.12.2)\n",
      "Requirement already satisfied: soupsieve>1.2 in c:\\users\\asus\\appdata\\local\\programs\\python\\python311\\lib\\site-packages (from beautifulsoup4) (2.5)\n",
      "Note: you may need to restart the kernel to use updated packages.\n"
     ]
    }
   ],
   "source": [
    "pip install beautifulsoup4"
   ]
  },
  {
   "cell_type": "code",
   "execution_count": 15,
   "metadata": {},
   "outputs": [],
   "source": [
    "from bs4 import BeautifulSoup \n",
    "import requests"
   ]
  },
  {
   "cell_type": "code",
   "execution_count": 4,
   "metadata": {},
   "outputs": [
    {
     "name": "stdout",
     "output_type": "stream",
     "text": [
      "/\n",
      "/\n",
      "https://www.youtube.com/about/\n",
      "https://www.youtube.com/about/press/\n",
      "https://www.youtube.com/about/copyright/\n",
      "/t/contact_us/\n",
      "https://www.youtube.com/creators/\n",
      "https://www.youtube.com/ads/\n",
      "https://developers.google.com/youtube\n",
      "/t/terms\n",
      "/t/privacy\n",
      "https://www.youtube.com/about/policies/\n",
      "https://www.youtube.com/howyoutubeworks?utm_campaign=ytgen&utm_source=ythp&utm_medium=LeftNav&utm_content=txt&u=https%3A%2F%2Fwww.youtube.com%2Fhowyoutubeworks%3Futm_source%3Dythp%26utm_medium%3DLeftNav%26utm_campaign%3Dytgen\n",
      "/new\n"
     ]
    }
   ],
   "source": [
    "# url = raw_input(\"Enter a website to extract the URL's from:\")\n",
    "url=input(\"Enter a website to extract the url from : \")\n",
    "r = requests.get(\"http://\"+url)\n",
    "data = r.text\n",
    "soup = BeautifulSoup(data)\n",
    "for link in soup.find_all('a'):\n",
    "    print(link.get('href'))"
   ]
  },
  {
   "cell_type": "code",
   "execution_count": 5,
   "metadata": {},
   "outputs": [
    {
     "name": "stdout",
     "output_type": "stream",
     "text": [
      "Requirement already satisfied: lxml in c:\\users\\asus\\appdata\\local\\programs\\python\\python311\\lib\\site-packages (4.9.3)\n",
      "Note: you may need to restart the kernel to use updated packages.\n"
     ]
    }
   ],
   "source": [
    "pip install lxml"
   ]
  },
  {
   "cell_type": "code",
   "execution_count": 6,
   "metadata": {},
   "outputs": [
    {
     "name": "stdout",
     "output_type": "stream",
     "text": [
      "<title>Python (programming language) - Wikipedia</title>\n",
      "title\n",
      "Python (programming language) - Wikipedia\n"
     ]
    }
   ],
   "source": [
    "req = requests.get(\"https://en.wikipedia.org/wiki/Python_(programming_language)\")\n",
    "soup = BeautifulSoup(req.text,\"html.parser\")\n",
    "print(soup.title)\n",
    "print(soup.title.name)\n",
    "print(soup.title.string)"
   ]
  },
  {
   "cell_type": "code",
   "execution_count": 7,
   "metadata": {},
   "outputs": [],
   "source": [
    "# print(soup.h1)\n",
    "# print(soup.h1.string)\n",
    "soup.h1['class'] = 'firstHeading,mainHeading'\n",
    "soup.h1.string.replace_with(\"Python - Programming Language\")\n",
    "del soup.h1['lang']\n",
    "del soup.h1['id']"
   ]
  },
  {
   "cell_type": "code",
   "execution_count": 8,
   "metadata": {},
   "outputs": [
    {
     "name": "stdout",
     "output_type": "stream",
     "text": [
      "28°\n",
      "Teen Murti Marg Area, Delhi As of 23:49 IST\n"
     ]
    }
   ],
   "source": [
    "from bs4 import BeautifulSoup\n",
    "resp = requests.get(\"https://weather.com/en-IN/weather/today/l/a5f0fe2ff9a40acc9ce62d67cd99439a71cde78cc0c5c1fbf6da052bef4cdba9\")\n",
    "soup = BeautifulSoup(resp.text, \"lxml\")\n",
    "elements = soup.select('span[data-testid=\"TemperatureValue\"][class=\"CurrentConditions--tempValue--MHmYY\"]')\n",
    "elements2=soup.select('div[class=\"CurrentConditions--header--kbXKR\"]')\n",
    "print(elements[0].text)\n",
    "print(elements2[0].text)"
   ]
  },
  {
   "cell_type": "code",
   "execution_count": 11,
   "metadata": {},
   "outputs": [
    {
     "name": "stdout",
     "output_type": "stream",
     "text": [
      "Collecting pymongoNote: you may need to restart the kernel to use updated packages.\n",
      "\n",
      "  Obtaining dependency information for pymongo from https://files.pythonhosted.org/packages/4d/88/7b9bfad1ad6269e0b9e0bb39d093aabc27837da4ccb93391cda68f580984/pymongo-4.5.0-cp311-cp311-win_amd64.whl.metadata\n",
      "  Downloading pymongo-4.5.0-cp311-cp311-win_amd64.whl.metadata (22 kB)\n",
      "Collecting dnspython<3.0.0,>=1.16.0 (from pymongo)\n",
      "  Obtaining dependency information for dnspython<3.0.0,>=1.16.0 from https://files.pythonhosted.org/packages/f6/b4/0a9bee52c50f226a3cbfb54263d02bb421c7f2adc136520729c2c689c1e5/dnspython-2.4.2-py3-none-any.whl.metadata\n",
      "  Downloading dnspython-2.4.2-py3-none-any.whl.metadata (4.9 kB)\n",
      "Downloading pymongo-4.5.0-cp311-cp311-win_amd64.whl (468 kB)\n",
      "   ---------------------------------------- 0.0/468.2 kB ? eta -:--:--\n",
      "   ----- ---------------------------------- 61.4/468.2 kB 1.6 MB/s eta 0:00:01\n",
      "   ----- --------------------------------- 71.7/468.2 kB 975.2 kB/s eta 0:00:01\n",
      "   ------- ------------------------------- 92.2/468.2 kB 744.7 kB/s eta 0:00:01\n",
      "   ------- ------------------------------- 92.2/468.2 kB 744.7 kB/s eta 0:00:01\n",
      "   --------- ---------------------------- 112.6/468.2 kB 467.6 kB/s eta 0:00:01\n",
      "   ----------- -------------------------- 143.4/468.2 kB 500.5 kB/s eta 0:00:01\n",
      "   -------------- ----------------------- 174.1/468.2 kB 523.5 kB/s eta 0:00:01\n",
      "   -------------------- ----------------- 256.0/468.2 kB 655.4 kB/s eta 0:00:01\n",
      "   -------------------- ----------------- 256.0/468.2 kB 655.4 kB/s eta 0:00:01\n",
      "   ------------------------ ------------- 307.2/468.2 kB 612.3 kB/s eta 0:00:01\n",
      "   ----------------------------- -------- 368.6/468.2 kB 673.7 kB/s eta 0:00:01\n",
      "   ----------------------------- -------- 368.6/468.2 kB 673.7 kB/s eta 0:00:01\n",
      "   ----------------------------- -------- 368.6/468.2 kB 673.7 kB/s eta 0:00:01\n",
      "   ----------------------------- -------- 368.6/468.2 kB 673.7 kB/s eta 0:00:01\n",
      "   ------------------------------- ------ 389.1/468.2 kB 527.0 kB/s eta 0:00:01\n",
      "   ------------------------------- ------ 389.1/468.2 kB 527.0 kB/s eta 0:00:01\n",
      "   ------------------------------- ------ 389.1/468.2 kB 527.0 kB/s eta 0:00:01\n",
      "   ------------------------------- ------ 389.1/468.2 kB 527.0 kB/s eta 0:00:01\n",
      "   -------------------------------- ----- 399.4/468.2 kB 444.7 kB/s eta 0:00:01\n",
      "   -------------------------------- ----- 399.4/468.2 kB 444.7 kB/s eta 0:00:01\n",
      "   --------------------------------- ---- 409.6/468.2 kB 412.1 kB/s eta 0:00:01\n",
      "   -------------------------------------- 468.2/468.2 kB 437.4 kB/s eta 0:00:00\n",
      "Downloading dnspython-2.4.2-py3-none-any.whl (300 kB)\n",
      "   ---------------------------------------- 0.0/300.4 kB ? eta -:--:--\n",
      "   ----- ---------------------------------- 41.0/300.4 kB ? eta -:--:--\n",
      "   ----- ---------------------------------- 41.0/300.4 kB ? eta -:--:--\n",
      "   ------- ------------------------------- 61.4/300.4 kB 656.4 kB/s eta 0:00:01\n",
      "   ------- ------------------------------- 61.4/300.4 kB 656.4 kB/s eta 0:00:01\n",
      "   ------- ------------------------------- 61.4/300.4 kB 656.4 kB/s eta 0:00:01\n",
      "   -------------- ----------------------- 112.6/300.4 kB 409.6 kB/s eta 0:00:01\n",
      "   -------------- ----------------------- 112.6/300.4 kB 409.6 kB/s eta 0:00:01\n",
      "   --------------- ---------------------- 122.9/300.4 kB 343.4 kB/s eta 0:00:01\n",
      "   ------------------ ------------------- 143.4/300.4 kB 370.8 kB/s eta 0:00:01\n",
      "   ------------------ ------------------- 143.4/300.4 kB 370.8 kB/s eta 0:00:01\n",
      "   ------------------ ------------------- 143.4/300.4 kB 370.8 kB/s eta 0:00:01\n",
      "   ------------------- ------------------ 153.6/300.4 kB 286.7 kB/s eta 0:00:01\n",
      "   ------------------------- ------------ 204.8/300.4 kB 346.2 kB/s eta 0:00:01\n",
      "   ---------------------------- --------- 225.3/300.4 kB 362.0 kB/s eta 0:00:01\n",
      "   ----------------------------- -------- 235.5/300.4 kB 343.4 kB/s eta 0:00:01\n",
      "   ----------------------------- -------- 235.5/300.4 kB 343.4 kB/s eta 0:00:01\n",
      "   ----------------------------- -------- 235.5/300.4 kB 343.4 kB/s eta 0:00:01\n",
      "   ----------------------------- -------- 235.5/300.4 kB 343.4 kB/s eta 0:00:01\n",
      "   -------------------------------- ----- 256.0/300.4 kB 296.8 kB/s eta 0:00:01\n",
      "   -------------------------------------- 300.4/300.4 kB 331.6 kB/s eta 0:00:00\n",
      "Installing collected packages: dnspython, pymongo\n",
      "Successfully installed dnspython-2.4.2 pymongo-4.5.0\n"
     ]
    }
   ],
   "source": [
    "pip install pymongo"
   ]
  },
  {
   "cell_type": "code",
   "execution_count": 2,
   "metadata": {},
   "outputs": [
    {
     "name": "stdout",
     "output_type": "stream",
     "text": [
      "FL500\n"
     ]
    }
   ],
   "source": [
    "import requests\n",
    "from bs4 import BeautifulSoup\n",
    "import pymongo\n",
    "def mongo_connection():\n",
    "    myclient = pymongo.MongoClient(\"mongodb://localhost:27017\")\n",
    "    mydb = myclient[\"test\"]  \n",
    "    mycol = mydb[\"data\"]\n",
    "    return mycol\n",
    "def main():\n",
    "    col = mongo_connection()\n",
    "    \n",
    "    soup = BeautifulSoup(requests.get('https://wpdatatables.com/documentation/table-examples/catalog-of-drivers/').text,\"html.parser\")\n",
    "    print (soup('table')[0].findAll('tr')[1].findAll('td')[1].string)\n",
    "    \n",
    "if __name__ == \"__main__\":\n",
    "    main()"
   ]
  },
  {
   "cell_type": "code",
   "execution_count": null,
   "metadata": {},
   "outputs": [],
   "source": []
  },
  {
   "cell_type": "code",
   "execution_count": 18,
   "metadata": {},
   "outputs": [
    {
     "name": "stdout",
     "output_type": "stream",
     "text": [
      "Error processing page 1: HTTP Error 403: Forbidden\n",
      "Error processing page 2: HTTP Error 403: Forbidden\n",
      "Error processing page 3: HTTP Error 403: Forbidden\n",
      "Error processing page 4: HTTP Error 403: Forbidden\n",
      "Error processing page 5: HTTP Error 403: Forbidden\n",
      "Error processing page 6: HTTP Error 403: Forbidden\n",
      "Error processing page 7: HTTP Error 403: Forbidden\n",
      "Error processing page 8: HTTP Error 403: Forbidden\n",
      "Error processing page 9: HTTP Error 403: Forbidden\n",
      "Error processing page 10: HTTP Error 403: Forbidden\n",
      "Error processing page 11: HTTP Error 403: Forbidden\n",
      "Error processing page 12: HTTP Error 403: Forbidden\n",
      "Error processing page 13: HTTP Error 403: Forbidden\n",
      "Error processing page 14: HTTP Error 403: Forbidden\n",
      "Error processing page 15: HTTP Error 403: Forbidden\n",
      "Error processing page 16: HTTP Error 403: Forbidden\n",
      "Error processing page 17: HTTP Error 403: Forbidden\n",
      "Error processing page 18: HTTP Error 403: Forbidden\n",
      "Error processing page 19: HTTP Error 403: Forbidden\n",
      "Error processing page 20: HTTP Error 403: Forbidden\n",
      "Error processing page 21: HTTP Error 403: Forbidden\n",
      "Error processing page 22: HTTP Error 403: Forbidden\n",
      "Error processing page 23: HTTP Error 403: Forbidden\n",
      "Error processing page 24: HTTP Error 403: Forbidden\n",
      "Error processing page 25: HTTP Error 403: Forbidden\n",
      "Error processing page 26: HTTP Error 403: Forbidden\n",
      "Error processing page 27: HTTP Error 403: Forbidden\n",
      "Error processing page 28: HTTP Error 403: Forbidden\n",
      "Error processing page 29: HTTP Error 403: Forbidden\n",
      "Error processing page 30: HTTP Error 403: Forbidden\n",
      "Error processing page 31: HTTP Error 403: Forbidden\n",
      "Error processing page 32: HTTP Error 403: Forbidden\n",
      "Error processing page 33: HTTP Error 403: Forbidden\n",
      "Error processing page 34: HTTP Error 403: Forbidden\n",
      "Error processing page 35: HTTP Error 403: Forbidden\n",
      "Error processing page 36: HTTP Error 403: Forbidden\n",
      "Error processing page 37: HTTP Error 403: Forbidden\n",
      "Error processing page 38: HTTP Error 403: Forbidden\n",
      "Error processing page 39: HTTP Error 403: Forbidden\n",
      "Error processing page 40: HTTP Error 403: Forbidden\n",
      "Error processing page 41: HTTP Error 403: Forbidden\n",
      "Error processing page 42: HTTP Error 403: Forbidden\n",
      "Error processing page 43: HTTP Error 403: Forbidden\n",
      "Error processing page 44: HTTP Error 403: Forbidden\n",
      "Error processing page 45: HTTP Error 403: Forbidden\n",
      "Error processing page 46: HTTP Error 403: Forbidden\n",
      "Error processing page 47: HTTP Error 403: Forbidden\n",
      "Error processing page 48: HTTP Error 403: Forbidden\n",
      "Error processing page 49: HTTP Error 403: Forbidden\n",
      "Error processing page 50: HTTP Error 403: Forbidden\n",
      "Error processing page 51: HTTP Error 403: Forbidden\n",
      "Error processing page 52: HTTP Error 403: Forbidden\n",
      "Error processing page 53: HTTP Error 403: Forbidden\n",
      "Error processing page 54: HTTP Error 403: Forbidden\n",
      "Error processing page 55: HTTP Error 403: Forbidden\n",
      "Error processing page 56: HTTP Error 403: Forbidden\n",
      "Error processing page 57: HTTP Error 403: Forbidden\n",
      "Error processing page 58: HTTP Error 403: Forbidden\n",
      "Error processing page 59: HTTP Error 403: Forbidden\n",
      "Error processing page 60: HTTP Error 403: Forbidden\n",
      "Error processing page 61: HTTP Error 403: Forbidden\n",
      "Error processing page 62: HTTP Error 403: Forbidden\n",
      "Error processing page 63: HTTP Error 403: Forbidden\n"
     ]
    }
   ],
   "source": [
    "import urllib\n",
    "from bs4 import BeautifulSoup\n",
    "from pymongo import MongoClient\n",
    "import urllib.request  # Import urllib.request instead of urllib2 (Python 3)\n",
    "\n",
    "host = 'localhost'\n",
    "database = 'lotto'\n",
    "collection = 'mega_millions'\n",
    "\n",
    "def mongo_connection():\n",
    "    client = MongoClient(host)\n",
    "    db = client[database]\n",
    "    col = db[collection]\n",
    "    return col\n",
    "\n",
    "def main():\n",
    "    col = mongo_connection()\n",
    "    page_num = 1\n",
    "    total_pages = 63\n",
    "\n",
    "    while page_num <= total_pages:  # Use <= to include the total_pages value\n",
    "        page_num_str = str(page_num)\n",
    "        url = 'http://www.usamega.com/mega-millions-history.asp?p=' + page_num_str\n",
    "\n",
    "        try:\n",
    "            # Use urllib.request.urlopen for Python 3\n",
    "            response = urllib.request.urlopen(url)\n",
    "            soup = BeautifulSoup(response, 'html.parser')\n",
    "\n",
    "            for row in soup('table')[4].findAll('tr'):\n",
    "                win_dict = {}\n",
    "                tds = row('td')\n",
    "\n",
    "                if tds[1].a is not None:\n",
    "                    win_dict['date'] = tds[1].a.string\n",
    "\n",
    "                if tds[3].b is not None:\n",
    "                    num_list = []\n",
    "                    number_list = tds[3].b.string.split('·')  # Use '·' instead of '&middot;'\n",
    "                    for num in number_list:\n",
    "                        num_list.append(int(num))\n",
    "                    win_dict['numbers'] = num_list\n",
    "                    mega_number = tds[3].strong.string\n",
    "                    win_dict['mega_number'] = int(mega_number)\n",
    "                    col.insert_one(win_dict)\n",
    "\n",
    "        except Exception as e:\n",
    "            print(f\"Error processing page {page_num}: {e}\")\n",
    "\n",
    "        page_num += 1\n",
    "\n",
    "if __name__ == \"__main__\":\n",
    "    main()\n"
   ]
  },
  {
   "cell_type": "code",
   "execution_count": null,
   "metadata": {},
   "outputs": [],
   "source": []
  }
 ],
 "metadata": {
  "kernelspec": {
   "display_name": "Python 3",
   "language": "python",
   "name": "python3"
  },
  "language_info": {
   "codemirror_mode": {
    "name": "ipython",
    "version": 3
   },
   "file_extension": ".py",
   "mimetype": "text/x-python",
   "name": "python",
   "nbconvert_exporter": "python",
   "pygments_lexer": "ipython3",
   "version": "3.11.5"
  }
 },
 "nbformat": 4,
 "nbformat_minor": 2
}
